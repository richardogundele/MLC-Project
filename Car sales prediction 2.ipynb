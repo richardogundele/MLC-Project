{
 "cells": [
  {
   "cell_type": "markdown",
   "id": "f6d33fd2",
   "metadata": {},
   "source": [
    "### Richard Ogundele -- 22539744\n"
   ]
  },
  {
   "cell_type": "markdown",
   "id": "f533197d",
   "metadata": {},
   "source": [
    "### ADVANCED MACHINE LEARNING"
   ]
  },
  {
   "cell_type": "code",
   "execution_count": 1,
   "id": "c993f748",
   "metadata": {},
   "outputs": [],
   "source": [
    "#!pip install --upgrade scikit-learn -q --user"
   ]
  },
  {
   "cell_type": "code",
   "execution_count": 2,
   "id": "ec995c12",
   "metadata": {},
   "outputs": [],
   "source": [
    "import pandas as pd\n",
    "import numpy as np\n",
    "\n",
    "import matplotlib.pyplot as plt\n",
    "import seaborn as sns\n",
    "\n",
    "%matplotlib inline\n",
    "%config InlineBackend.figure_format = 'retina'\n",
    "\n",
    "sns.set(\n",
    "    style='ticks', \n",
    "    context='talk',\n",
    "    font_scale=0.8, \n",
    "    rc={'figure.figsize': (8,6)}\n",
    ")\n",
    "import random\n",
    "random.seed(24)\n",
    "np.random.seed(24)"
   ]
  },
  {
   "cell_type": "code",
   "execution_count": 3,
   "id": "cdf4a302",
   "metadata": {},
   "outputs": [],
   "source": [
    "from sklearn.model_selection import train_test_split, cross_val_score\n",
    "from sklearn.model_selection import GridSearchCV, ParameterGrid\n",
    "from sklearn.pipeline import Pipeline, make_pipeline\n",
    "from sklearn.compose import ColumnTransformer\n",
    "from numpy import percentile\n",
    "\n",
    "from sklearn.preprocessing import StandardScaler, PolynomialFeatures\n",
    "from sklearn.preprocessing import LabelEncoder, OneHotEncoder\n",
    "from sklearn.pipeline import make_pipeline, Pipeline\n",
    "from sklearn.inspection import PartialDependenceDisplay\n",
    "from sklearn.decomposition import PCA\n",
    "from sklearn.impute import SimpleImputer\n",
    "\n",
    "from sklearn.linear_model import LinearRegression, Lasso, Ridge\n",
    "from sklearn.dummy import DummyRegressor\n",
    "from sklearn.ensemble import RandomForestRegressor, GradientBoostingRegressor\n",
    "from sklearn.ensemble import HistGradientBoostingRegressor, StackingRegressor\n",
    "from sklearn.feature_selection import SelectKBest, f_regression, RFECV\n",
    "\n",
    "from sklearn.metrics import mean_squared_error, mean_absolute_error\n",
    "from functools import partial\n",
    "rmse = partial(mean_squared_error, squared=False)\n"
   ]
  },
  {
   "cell_type": "markdown",
   "id": "18d96899",
   "metadata": {},
   "source": [
    "### DATA PROCESSING FOR MACHINE LEARNING"
   ]
  },
  {
   "cell_type": "code",
   "execution_count": 4,
   "id": "5c5fc18a",
   "metadata": {},
   "outputs": [
    {
     "data": {
      "text/html": [
       "<div>\n",
       "<style scoped>\n",
       "    .dataframe tbody tr th:only-of-type {\n",
       "        vertical-align: middle;\n",
       "    }\n",
       "\n",
       "    .dataframe tbody tr th {\n",
       "        vertical-align: top;\n",
       "    }\n",
       "\n",
       "    .dataframe thead th {\n",
       "        text-align: right;\n",
       "    }\n",
       "</style>\n",
       "<table border=\"1\" class=\"dataframe\">\n",
       "  <thead>\n",
       "    <tr style=\"text-align: right;\">\n",
       "      <th></th>\n",
       "      <th>public_reference</th>\n",
       "      <th>mileage</th>\n",
       "      <th>reg_code</th>\n",
       "      <th>standard_colour</th>\n",
       "      <th>standard_make</th>\n",
       "      <th>standard_model</th>\n",
       "      <th>vehicle_condition</th>\n",
       "      <th>year_of_registration</th>\n",
       "      <th>price</th>\n",
       "      <th>body_type</th>\n",
       "      <th>crossover_car_and_van</th>\n",
       "      <th>fuel_type</th>\n",
       "    </tr>\n",
       "  </thead>\n",
       "  <tbody>\n",
       "    <tr>\n",
       "      <th>0</th>\n",
       "      <td>202006039777689</td>\n",
       "      <td>0.0</td>\n",
       "      <td>NaN</td>\n",
       "      <td>Grey</td>\n",
       "      <td>Volvo</td>\n",
       "      <td>XC90</td>\n",
       "      <td>NEW</td>\n",
       "      <td>NaN</td>\n",
       "      <td>73970</td>\n",
       "      <td>SUV</td>\n",
       "      <td>False</td>\n",
       "      <td>Petrol Plug-in Hybrid</td>\n",
       "    </tr>\n",
       "    <tr>\n",
       "      <th>1</th>\n",
       "      <td>202007020778260</td>\n",
       "      <td>108230.0</td>\n",
       "      <td>61</td>\n",
       "      <td>Blue</td>\n",
       "      <td>Jaguar</td>\n",
       "      <td>XF</td>\n",
       "      <td>USED</td>\n",
       "      <td>2011.0</td>\n",
       "      <td>7000</td>\n",
       "      <td>Saloon</td>\n",
       "      <td>False</td>\n",
       "      <td>Diesel</td>\n",
       "    </tr>\n",
       "    <tr>\n",
       "      <th>2</th>\n",
       "      <td>202007020778474</td>\n",
       "      <td>7800.0</td>\n",
       "      <td>17</td>\n",
       "      <td>Grey</td>\n",
       "      <td>SKODA</td>\n",
       "      <td>Yeti</td>\n",
       "      <td>USED</td>\n",
       "      <td>2017.0</td>\n",
       "      <td>14000</td>\n",
       "      <td>SUV</td>\n",
       "      <td>False</td>\n",
       "      <td>Petrol</td>\n",
       "    </tr>\n",
       "    <tr>\n",
       "      <th>3</th>\n",
       "      <td>202007080986776</td>\n",
       "      <td>45000.0</td>\n",
       "      <td>16</td>\n",
       "      <td>Brown</td>\n",
       "      <td>Vauxhall</td>\n",
       "      <td>Mokka</td>\n",
       "      <td>USED</td>\n",
       "      <td>2016.0</td>\n",
       "      <td>7995</td>\n",
       "      <td>Hatchback</td>\n",
       "      <td>False</td>\n",
       "      <td>Diesel</td>\n",
       "    </tr>\n",
       "    <tr>\n",
       "      <th>4</th>\n",
       "      <td>202007161321269</td>\n",
       "      <td>64000.0</td>\n",
       "      <td>64</td>\n",
       "      <td>Grey</td>\n",
       "      <td>Land Rover</td>\n",
       "      <td>Range Rover Sport</td>\n",
       "      <td>USED</td>\n",
       "      <td>2015.0</td>\n",
       "      <td>26995</td>\n",
       "      <td>SUV</td>\n",
       "      <td>False</td>\n",
       "      <td>Diesel</td>\n",
       "    </tr>\n",
       "  </tbody>\n",
       "</table>\n",
       "</div>"
      ],
      "text/plain": [
       "   public_reference   mileage reg_code standard_colour standard_make   \n",
       "0   202006039777689       0.0      NaN            Grey         Volvo  \\\n",
       "1   202007020778260  108230.0       61            Blue        Jaguar   \n",
       "2   202007020778474    7800.0       17            Grey         SKODA   \n",
       "3   202007080986776   45000.0       16           Brown      Vauxhall   \n",
       "4   202007161321269   64000.0       64            Grey    Land Rover   \n",
       "\n",
       "      standard_model vehicle_condition  year_of_registration  price   \n",
       "0               XC90               NEW                   NaN  73970  \\\n",
       "1                 XF              USED                2011.0   7000   \n",
       "2               Yeti              USED                2017.0  14000   \n",
       "3              Mokka              USED                2016.0   7995   \n",
       "4  Range Rover Sport              USED                2015.0  26995   \n",
       "\n",
       "   body_type  crossover_car_and_van              fuel_type  \n",
       "0        SUV                  False  Petrol Plug-in Hybrid  \n",
       "1     Saloon                  False                 Diesel  \n",
       "2        SUV                  False                 Petrol  \n",
       "3  Hatchback                  False                 Diesel  \n",
       "4        SUV                  False                 Diesel  "
      ]
     },
     "execution_count": 4,
     "metadata": {},
     "output_type": "execute_result"
    }
   ],
   "source": [
    "adv = pd.read_csv('adverts.csv')\n",
    "adv.head()"
   ]
  },
  {
   "cell_type": "code",
   "execution_count": 5,
   "id": "24eff06f",
   "metadata": {},
   "outputs": [
    {
     "name": "stdout",
     "output_type": "stream",
     "text": [
      "<class 'pandas.core.frame.DataFrame'>\n",
      "RangeIndex: 402005 entries, 0 to 402004\n",
      "Data columns (total 12 columns):\n",
      " #   Column                 Non-Null Count   Dtype  \n",
      "---  ------                 --------------   -----  \n",
      " 0   public_reference       402005 non-null  int64  \n",
      " 1   mileage                401878 non-null  float64\n",
      " 2   reg_code               370148 non-null  object \n",
      " 3   standard_colour        396627 non-null  object \n",
      " 4   standard_make          402005 non-null  object \n",
      " 5   standard_model         402005 non-null  object \n",
      " 6   vehicle_condition      402005 non-null  object \n",
      " 7   year_of_registration   368694 non-null  float64\n",
      " 8   price                  402005 non-null  int64  \n",
      " 9   body_type              401168 non-null  object \n",
      " 10  crossover_car_and_van  402005 non-null  bool   \n",
      " 11  fuel_type              401404 non-null  object \n",
      "dtypes: bool(1), float64(2), int64(2), object(7)\n",
      "memory usage: 34.1+ MB\n"
     ]
    }
   ],
   "source": [
    "adv.info()"
   ]
  },
  {
   "cell_type": "code",
   "execution_count": 6,
   "id": "8ed8823e",
   "metadata": {},
   "outputs": [],
   "source": [
    "def data_distribution(col):\n",
    "    fig, ax = plt.subplots(nrows=1, ncols=2, figsize=(10,4))\n",
    "    ax[0].hist(col)\n",
    "    ax[0].set_xlabel(\"Value\")\n",
    "    ax[0].set_ylabel(\"{col}\")\n",
    "\n",
    "    sns.boxplot(x=col, ax=ax[1])\n",
    "    ax[1].set_xlabel(\"Value\")\n",
    "    ax[1].set_ylabel(\"\")\n",
    "    fig.suptitle('Data Distribution')\n",
    "    plt.show()"
   ]
  },
  {
   "cell_type": "code",
   "execution_count": 7,
   "id": "c7a3c91f",
   "metadata": {},
   "outputs": [],
   "source": [
    "def outlier_removal(col):\n",
    "    Q25, Q50, Q75 = percentile(col,25), percentile(col, 50),percentile(col, 75)\n",
    "    print('25th percentile:', Q25, '50th percentile: ', Q50, '75th percentile: ', Q75)\n",
    "    IqR = Q75 - Q25\n",
    "    #calculate cutoff outlier\n",
    "    cutoff = IqR * 1.5\n",
    "    lower_lim, upper_lim = Q25 - cutoff, Q75 + cutoff\n",
    "    adv[(col < lower_lim) | (col > upper_lim)]\n",
    "    outliers = [i for i in col if i < lower_lim or i > upper_lim]\n",
    "    print('Identified outliers: %d' % len(outliers))\n",
    "    # remove outliers\n",
    "    adv.drop(adv[(col > upper_lim) | (col < lower_lim)].index, inplace=True)\n",
    "    outliers_removed = [i for i in col if i >= lower_lim and i <= upper_lim]\n",
    "    print('Non-outlier observations: %d' % len(outliers_removed))\n",
    "    \n",
    "    colx = col < upper_lim"
   ]
  },
  {
   "cell_type": "code",
   "execution_count": 8,
   "id": "4a1e337b",
   "metadata": {
    "scrolled": true
   },
   "outputs": [
    {
     "data": {
      "image/png": "[encoded data removed]",
      "text/plain": [
       "<Figure size 1000x400 with 2 Axes>"
      ]
     },
     "metadata": {
      "image/png": {
       "height": 425,
       "width": 901
      }
     },
     "output_type": "display_data"
    }
   ],
   "source": [
    "data_distribution(adv['mileage']/1000)"
   ]
  },
  {
   "cell_type": "code",
   "execution_count": 9,
   "id": "cc0ac330",
   "metadata": {},
   "outputs": [
    {
     "data": {
      "image/png": "[encoded data removed]",
      "text/plain": [
       "<Figure size 1000x400 with 2 Axes>"
      ]
     },
     "metadata": {
      "image/png": {
       "height": 425,
       "width": 906
      }
     },
     "output_type": "display_data"
    }
   ],
   "source": [
    "data_distribution(adv['price']/1000)"
   ]
  },
  {
   "cell_type": "code",
   "execution_count": 10,
   "id": "b5578c16",
   "metadata": {},
   "outputs": [
    {
     "name": "stdout",
     "output_type": "stream",
     "text": [
      "MILEAGE\n",
      "25th percentile: nan 50th percentile:  nan 75th percentile:  nan\n",
      "Identified outliers: 0\n",
      "Non-outlier observations: 0\n",
      "--------------------\n",
      "YEAR_OF_REGISTRATION\n",
      "25th percentile: nan 50th percentile:  nan 75th percentile:  nan\n",
      "Identified outliers: 0\n",
      "Non-outlier observations: 0\n",
      "--------------------\n",
      "PUBLIC_REFERENCE\n",
      "25th percentile: 202009023197699.0 50th percentile:  202009304400624.0 75th percentile:  202010175124399.0\n",
      "Identified outliers: 54649\n",
      "Non-outlier observations: 347356\n",
      "--------------------\n",
      "PRICE\n",
      "25th percentile: 7390.0 50th percentile:  12300.0 75th percentile:  19450.0\n",
      "Identified outliers: 20956\n",
      "Non-outlier observations: 326400\n",
      "--------------------\n"
     ]
    }
   ],
   "source": [
    "cols = ['mileage','year_of_registration', 'public_reference', 'price']\n",
    "for col in cols:\n",
    "    print(col.upper())\n",
    "    outlier_removal(adv[col])\n",
    "    print('-'*20)"
   ]
  },
  {
   "cell_type": "markdown",
   "id": "c8e6b72f",
   "metadata": {},
   "source": [
    "### FEATURE ENGINEERING"
   ]
  },
  {
   "cell_type": "code",
   "execution_count": 11,
   "id": "1e87cefd",
   "metadata": {},
   "outputs": [],
   "source": [
    "adv.drop(['reg_code', 'public_reference'], axis=1, inplace=True)"
   ]
  },
  {
   "cell_type": "code",
   "execution_count": 12,
   "id": "3a9f0833",
   "metadata": {},
   "outputs": [],
   "source": [
    "#determing that the new cars have no registration number yet\n",
    "adv.loc[adv['vehicle_condition'] == 'NEW', 'year_of_registration'] = 0"
   ]
  },
  {
   "cell_type": "code",
   "execution_count": 13,
   "id": "70229f85",
   "metadata": {},
   "outputs": [
    {
     "data": {
      "text/html": [
       "<div>\n",
       "<style scoped>\n",
       "    .dataframe tbody tr th:only-of-type {\n",
       "        vertical-align: middle;\n",
       "    }\n",
       "\n",
       "    .dataframe tbody tr th {\n",
       "        vertical-align: top;\n",
       "    }\n",
       "\n",
       "    .dataframe thead th {\n",
       "        text-align: right;\n",
       "    }\n",
       "</style>\n",
       "<table border=\"1\" class=\"dataframe\">\n",
       "  <thead>\n",
       "    <tr style=\"text-align: right;\">\n",
       "      <th></th>\n",
       "      <th>mileage</th>\n",
       "      <th>standard_colour</th>\n",
       "      <th>standard_make</th>\n",
       "      <th>standard_model</th>\n",
       "      <th>vehicle_condition</th>\n",
       "      <th>year_of_registration</th>\n",
       "      <th>price</th>\n",
       "      <th>body_type</th>\n",
       "      <th>crossover_car_and_van</th>\n",
       "      <th>fuel_type</th>\n",
       "    </tr>\n",
       "  </thead>\n",
       "  <tbody>\n",
       "    <tr>\n",
       "      <th>5</th>\n",
       "      <td>16000.0</td>\n",
       "      <td>Blue</td>\n",
       "      <td>Audi</td>\n",
       "      <td>S5</td>\n",
       "      <td>0</td>\n",
       "      <td>2017.0</td>\n",
       "      <td>29000</td>\n",
       "      <td>Convertible</td>\n",
       "      <td>0</td>\n",
       "      <td>Petrol</td>\n",
       "    </tr>\n",
       "    <tr>\n",
       "      <th>7</th>\n",
       "      <td>99000.0</td>\n",
       "      <td>Bronze</td>\n",
       "      <td>Land Rover</td>\n",
       "      <td>Range Rover</td>\n",
       "      <td>0</td>\n",
       "      <td>2013.0</td>\n",
       "      <td>24475</td>\n",
       "      <td>SUV</td>\n",
       "      <td>0</td>\n",
       "      <td>Diesel</td>\n",
       "    </tr>\n",
       "    <tr>\n",
       "      <th>8</th>\n",
       "      <td>111236.0</td>\n",
       "      <td>Black</td>\n",
       "      <td>Mercedes-Benz</td>\n",
       "      <td>S Class</td>\n",
       "      <td>0</td>\n",
       "      <td>2008.0</td>\n",
       "      <td>6995</td>\n",
       "      <td>Limousine</td>\n",
       "      <td>0</td>\n",
       "      <td>Diesel</td>\n",
       "    </tr>\n",
       "    <tr>\n",
       "      <th>12</th>\n",
       "      <td>4765.0</td>\n",
       "      <td>White</td>\n",
       "      <td>SKODA</td>\n",
       "      <td>Octavia</td>\n",
       "      <td>0</td>\n",
       "      <td>2019.0</td>\n",
       "      <td>16990</td>\n",
       "      <td>Estate</td>\n",
       "      <td>0</td>\n",
       "      <td>Petrol</td>\n",
       "    </tr>\n",
       "    <tr>\n",
       "      <th>13</th>\n",
       "      <td>18214.0</td>\n",
       "      <td>Silver</td>\n",
       "      <td>SEAT</td>\n",
       "      <td>Leon</td>\n",
       "      <td>0</td>\n",
       "      <td>2019.0</td>\n",
       "      <td>14290</td>\n",
       "      <td>Hatchback</td>\n",
       "      <td>0</td>\n",
       "      <td>Petrol</td>\n",
       "    </tr>\n",
       "  </tbody>\n",
       "</table>\n",
       "</div>"
      ],
      "text/plain": [
       "     mileage standard_colour  standard_make standard_model  vehicle_condition   \n",
       "5    16000.0            Blue           Audi             S5                  0  \\\n",
       "7    99000.0          Bronze     Land Rover    Range Rover                  0   \n",
       "8   111236.0           Black  Mercedes-Benz        S Class                  0   \n",
       "12    4765.0           White          SKODA        Octavia                  0   \n",
       "13   18214.0          Silver           SEAT           Leon                  0   \n",
       "\n",
       "    year_of_registration  price    body_type  crossover_car_and_van fuel_type  \n",
       "5                 2017.0  29000  Convertible                      0    Petrol  \n",
       "7                 2013.0  24475          SUV                      0    Diesel  \n",
       "8                 2008.0   6995    Limousine                      0    Diesel  \n",
       "12                2019.0  16990       Estate                      0    Petrol  \n",
       "13                2019.0  14290    Hatchback                      0    Petrol  "
      ]
     },
     "execution_count": 13,
     "metadata": {},
     "output_type": "execute_result"
    }
   ],
   "source": [
    "#change categorical data in this column: crossover_car_and_van to int = LabelEncoder()\n",
    "adv['crossover_car_and_van'] = adv['crossover_car_and_van'].map({False:0, True:1})\n",
    "\n",
    "#change categorical data in this columns to integers and replaces used with 0 and new with 1\n",
    "adv['vehicle_condition'] = adv['vehicle_condition'].map({\"USED\":0, \"NEW\":1})\n",
    "\n",
    "adv.head()"
   ]
  },
  {
   "cell_type": "code",
   "execution_count": 14,
   "id": "1f3363c0",
   "metadata": {},
   "outputs": [],
   "source": [
    "adv.dropna(axis=0, subset=None, inplace=True)\n",
    "advert = adv.sample(frac=0.1)"
   ]
  },
  {
   "cell_type": "code",
   "execution_count": 15,
   "id": "29819642",
   "metadata": {},
   "outputs": [
    {
     "data": {
      "text/plain": [
       "32069"
      ]
     },
     "execution_count": 15,
     "metadata": {},
     "output_type": "execute_result"
    }
   ],
   "source": [
    "len(advert)"
   ]
  },
  {
   "cell_type": "code",
   "execution_count": 16,
   "id": "79fac1fd",
   "metadata": {},
   "outputs": [],
   "source": [
    "X, y = advert.drop(columns='price'), advert['price']"
   ]
  },
  {
   "cell_type": "code",
   "execution_count": 17,
   "id": "fb4bb709",
   "metadata": {},
   "outputs": [],
   "source": [
    "enc = LabelEncoder()\n",
    "scaler = StandardScaler()\n",
    "#use target encoder for all categorical data\n",
    "\n",
    "cat_cols = ['standard_colour','standard_make','body_type']\n",
    "\n",
    "X[cat_cols]= X[cat_cols].apply(enc.fit_transform)\n"
   ]
  },
  {
   "cell_type": "code",
   "execution_count": 18,
   "id": "9ddaf381",
   "metadata": {},
   "outputs": [],
   "source": [
    "X_train, X_test, y_train, y_test = train_test_split(X, y, test_size=0.2, random_state=42)"
   ]
  },
  {
   "cell_type": "code",
   "execution_count": 19,
   "id": "2c6d1f1a",
   "metadata": {},
   "outputs": [
    {
     "name": "stdout",
     "output_type": "stream",
     "text": [
      "['mileage', 'standard_colour', 'standard_make', 'vehicle_condition', 'year_of_registration', 'body_type', 'crossover_car_and_van']\n"
     ]
    },
    {
     "data": {
      "text/html": [
       "<style>#sk-container-id-1 {color: black;background-color: white;}#sk-container-id-1 pre{padding: 0;}#sk-container-id-1 div.sk-toggleable {background-color: white;}#sk-container-id-1 label.sk-toggleable__label {cursor: pointer;display: block;width: 100%;margin-bottom: 0;padding: 0.3em;box-sizing: border-box;text-align: center;}#sk-container-id-1 label.sk-toggleable__label-arrow:before {content: \"▸\";float: left;margin-right: 0.25em;color: #696969;}#sk-container-id-1 label.sk-toggleable__label-arrow:hover:before {color: black;}#sk-container-id-1 div.sk-estimator:hover label.sk-toggleable__label-arrow:before {color: black;}#sk-container-id-1 div.sk-toggleable__content {max-height: 0;max-width: 0;overflow: hidden;text-align: left;background-color: #f0f8ff;}#sk-container-id-1 div.sk-toggleable__content pre {margin: 0.2em;color: black;border-radius: 0.25em;background-color: #f0f8ff;}#sk-container-id-1 input.sk-toggleable__control:checked~div.sk-toggleable__content {max-height: 200px;max-width: 100%;overflow: auto;}#sk-container-id-1 input.sk-toggleable__control:checked~label.sk-toggleable__label-arrow:before {content: \"▾\";}#sk-container-id-1 div.sk-estimator input.sk-toggleable__control:checked~label.sk-toggleable__label {background-color: #d4ebff;}#sk-container-id-1 div.sk-label input.sk-toggleable__control:checked~label.sk-toggleable__label {background-color: #d4ebff;}#sk-container-id-1 input.sk-hidden--visually {border: 0;clip: rect(1px 1px 1px 1px);clip: rect(1px, 1px, 1px, 1px);height: 1px;margin: -1px;overflow: hidden;padding: 0;position: absolute;width: 1px;}#sk-container-id-1 div.sk-estimator {font-family: monospace;background-color: #f0f8ff;border: 1px dotted black;border-radius: 0.25em;box-sizing: border-box;margin-bottom: 0.5em;}#sk-container-id-1 div.sk-estimator:hover {background-color: #d4ebff;}#sk-container-id-1 div.sk-parallel-item::after {content: \"\";width: 100%;border-bottom: 1px solid gray;flex-grow: 1;}#sk-container-id-1 div.sk-label:hover label.sk-toggleable__label {background-color: #d4ebff;}#sk-container-id-1 div.sk-serial::before {content: \"\";position: absolute;border-left: 1px solid gray;box-sizing: border-box;top: 0;bottom: 0;left: 50%;z-index: 0;}#sk-container-id-1 div.sk-serial {display: flex;flex-direction: column;align-items: center;background-color: white;padding-right: 0.2em;padding-left: 0.2em;position: relative;}#sk-container-id-1 div.sk-item {position: relative;z-index: 1;}#sk-container-id-1 div.sk-parallel {display: flex;align-items: stretch;justify-content: center;background-color: white;position: relative;}#sk-container-id-1 div.sk-item::before, #sk-container-id-1 div.sk-parallel-item::before {content: \"\";position: absolute;border-left: 1px solid gray;box-sizing: border-box;top: 0;bottom: 0;left: 50%;z-index: -1;}#sk-container-id-1 div.sk-parallel-item {display: flex;flex-direction: column;z-index: 1;position: relative;background-color: white;}#sk-container-id-1 div.sk-parallel-item:first-child::after {align-self: flex-end;width: 50%;}#sk-container-id-1 div.sk-parallel-item:last-child::after {align-self: flex-start;width: 50%;}#sk-container-id-1 div.sk-parallel-item:only-child::after {width: 0;}#sk-container-id-1 div.sk-dashed-wrapped {border: 1px dashed gray;margin: 0 0.4em 0.5em 0.4em;box-sizing: border-box;padding-bottom: 0.4em;background-color: white;}#sk-container-id-1 div.sk-label label {font-family: monospace;font-weight: bold;display: inline-block;line-height: 1.2em;}#sk-container-id-1 div.sk-label-container {text-align: center;}#sk-container-id-1 div.sk-container {/* jupyter's `normalize.less` sets `[hidden] { display: none; }` but bootstrap.min.css set `[hidden] { display: none !important; }` so we also need the `!important` here to be able to override the default hidden behavior on the sphinx rendered scikit-learn.org. See: https://github.com/scikit-learn/scikit-learn/issues/21755 */display: inline-block !important;position: relative;}#sk-container-id-1 div.sk-text-repr-fallback {display: none;}</style><div id=\"sk-container-id-1\" class=\"sk-top-container\"><div class=\"sk-text-repr-fallback\"><pre>Pipeline(steps=[(&#x27;imputer&#x27;, SimpleImputer(strategy=&#x27;median&#x27;)),\n",
       "                (&#x27;scaler&#x27;, StandardScaler()),\n",
       "                (&#x27;poly_int&#x27;, PolynomialFeatures(include_bias=False))])</pre><b>In a Jupyter environment, please rerun this cell to show the HTML representation or trust the notebook. <br />On GitHub, the HTML representation is unable to render, please try loading this page with nbviewer.org.</b></div><div class=\"sk-container\" hidden><div class=\"sk-item sk-dashed-wrapped\"><div class=\"sk-label-container\"><div class=\"sk-label sk-toggleable\"><input class=\"sk-toggleable__control sk-hidden--visually\" id=\"sk-estimator-id-1\" type=\"checkbox\" ><label for=\"sk-estimator-id-1\" class=\"sk-toggleable__label sk-toggleable__label-arrow\">Pipeline</label><div class=\"sk-toggleable__content\"><pre>Pipeline(steps=[(&#x27;imputer&#x27;, SimpleImputer(strategy=&#x27;median&#x27;)),\n",
       "                (&#x27;scaler&#x27;, StandardScaler()),\n",
       "                (&#x27;poly_int&#x27;, PolynomialFeatures(include_bias=False))])</pre></div></div></div><div class=\"sk-serial\"><div class=\"sk-item\"><div class=\"sk-estimator sk-toggleable\"><input class=\"sk-toggleable__control sk-hidden--visually\" id=\"sk-estimator-id-2\" type=\"checkbox\" ><label for=\"sk-estimator-id-2\" class=\"sk-toggleable__label sk-toggleable__label-arrow\">SimpleImputer</label><div class=\"sk-toggleable__content\"><pre>SimpleImputer(strategy=&#x27;median&#x27;)</pre></div></div></div><div class=\"sk-item\"><div class=\"sk-estimator sk-toggleable\"><input class=\"sk-toggleable__control sk-hidden--visually\" id=\"sk-estimator-id-3\" type=\"checkbox\" ><label for=\"sk-estimator-id-3\" class=\"sk-toggleable__label sk-toggleable__label-arrow\">StandardScaler</label><div class=\"sk-toggleable__content\"><pre>StandardScaler()</pre></div></div></div><div class=\"sk-item\"><div class=\"sk-estimator sk-toggleable\"><input class=\"sk-toggleable__control sk-hidden--visually\" id=\"sk-estimator-id-4\" type=\"checkbox\" ><label for=\"sk-estimator-id-4\" class=\"sk-toggleable__label sk-toggleable__label-arrow\">PolynomialFeatures</label><div class=\"sk-toggleable__content\"><pre>PolynomialFeatures(include_bias=False)</pre></div></div></div></div></div></div></div>"
      ],
      "text/plain": [
       "Pipeline(steps=[('imputer', SimpleImputer(strategy='median')),\n",
       "                ('scaler', StandardScaler()),\n",
       "                ('poly_int', PolynomialFeatures(include_bias=False))])"
      ]
     },
     "execution_count": 19,
     "metadata": {},
     "output_type": "execute_result"
    }
   ],
   "source": [
    "numeric_features = X_train.select_dtypes(exclude='object').columns.tolist()\n",
    "numeric_transformer = Pipeline(\n",
    "    steps=[\n",
    "       (\"imputer\", SimpleImputer(strategy=\"median\")), \n",
    "        (\"scaler\", StandardScaler()),\n",
    "        (\"poly_int\", PolynomialFeatures(degree=2, include_bias=False))\n",
    "    ]\n",
    ")#.set_output(transform='pandas')\n",
    "print(numeric_features)\n",
    "numeric_transformer"
   ]
  },
  {
   "cell_type": "code",
   "execution_count": 20,
   "id": "ad87fdb6",
   "metadata": {},
   "outputs": [
    {
     "data": {
      "text/html": [
       "<style>#sk-container-id-2 {color: black;background-color: white;}#sk-container-id-2 pre{padding: 0;}#sk-container-id-2 div.sk-toggleable {background-color: white;}#sk-container-id-2 label.sk-toggleable__label {cursor: pointer;display: block;width: 100%;margin-bottom: 0;padding: 0.3em;box-sizing: border-box;text-align: center;}#sk-container-id-2 label.sk-toggleable__label-arrow:before {content: \"▸\";float: left;margin-right: 0.25em;color: #696969;}#sk-container-id-2 label.sk-toggleable__label-arrow:hover:before {color: black;}#sk-container-id-2 div.sk-estimator:hover label.sk-toggleable__label-arrow:before {color: black;}#sk-container-id-2 div.sk-toggleable__content {max-height: 0;max-width: 0;overflow: hidden;text-align: left;background-color: #f0f8ff;}#sk-container-id-2 div.sk-toggleable__content pre {margin: 0.2em;color: black;border-radius: 0.25em;background-color: #f0f8ff;}#sk-container-id-2 input.sk-toggleable__control:checked~div.sk-toggleable__content {max-height: 200px;max-width: 100%;overflow: auto;}#sk-container-id-2 input.sk-toggleable__control:checked~label.sk-toggleable__label-arrow:before {content: \"▾\";}#sk-container-id-2 div.sk-estimator input.sk-toggleable__control:checked~label.sk-toggleable__label {background-color: #d4ebff;}#sk-container-id-2 div.sk-label input.sk-toggleable__control:checked~label.sk-toggleable__label {background-color: #d4ebff;}#sk-container-id-2 input.sk-hidden--visually {border: 0;clip: rect(1px 1px 1px 1px);clip: rect(1px, 1px, 1px, 1px);height: 1px;margin: -1px;overflow: hidden;padding: 0;position: absolute;width: 1px;}#sk-container-id-2 div.sk-estimator {font-family: monospace;background-color: #f0f8ff;border: 1px dotted black;border-radius: 0.25em;box-sizing: border-box;margin-bottom: 0.5em;}#sk-container-id-2 div.sk-estimator:hover {background-color: #d4ebff;}#sk-container-id-2 div.sk-parallel-item::after {content: \"\";width: 100%;border-bottom: 1px solid gray;flex-grow: 1;}#sk-container-id-2 div.sk-label:hover label.sk-toggleable__label {background-color: #d4ebff;}#sk-container-id-2 div.sk-serial::before {content: \"\";position: absolute;border-left: 1px solid gray;box-sizing: border-box;top: 0;bottom: 0;left: 50%;z-index: 0;}#sk-container-id-2 div.sk-serial {display: flex;flex-direction: column;align-items: center;background-color: white;padding-right: 0.2em;padding-left: 0.2em;position: relative;}#sk-container-id-2 div.sk-item {position: relative;z-index: 1;}#sk-container-id-2 div.sk-parallel {display: flex;align-items: stretch;justify-content: center;background-color: white;position: relative;}#sk-container-id-2 div.sk-item::before, #sk-container-id-2 div.sk-parallel-item::before {content: \"\";position: absolute;border-left: 1px solid gray;box-sizing: border-box;top: 0;bottom: 0;left: 50%;z-index: -1;}#sk-container-id-2 div.sk-parallel-item {display: flex;flex-direction: column;z-index: 1;position: relative;background-color: white;}#sk-container-id-2 div.sk-parallel-item:first-child::after {align-self: flex-end;width: 50%;}#sk-container-id-2 div.sk-parallel-item:last-child::after {align-self: flex-start;width: 50%;}#sk-container-id-2 div.sk-parallel-item:only-child::after {width: 0;}#sk-container-id-2 div.sk-dashed-wrapped {border: 1px dashed gray;margin: 0 0.4em 0.5em 0.4em;box-sizing: border-box;padding-bottom: 0.4em;background-color: white;}#sk-container-id-2 div.sk-label label {font-family: monospace;font-weight: bold;display: inline-block;line-height: 1.2em;}#sk-container-id-2 div.sk-label-container {text-align: center;}#sk-container-id-2 div.sk-container {/* jupyter's `normalize.less` sets `[hidden] { display: none; }` but bootstrap.min.css set `[hidden] { display: none !important; }` so we also need the `!important` here to be able to override the default hidden behavior on the sphinx rendered scikit-learn.org. See: https://github.com/scikit-learn/scikit-learn/issues/21755 */display: inline-block !important;position: relative;}#sk-container-id-2 div.sk-text-repr-fallback {display: none;}</style><div id=\"sk-container-id-2\" class=\"sk-top-container\"><div class=\"sk-text-repr-fallback\"><pre>Pipeline(steps=[(&#x27;imputer&#x27;, SimpleImputer(strategy=&#x27;most_frequent&#x27;)),\n",
       "                (&#x27;ohe&#x27;,\n",
       "                 OneHotEncoder(drop=&#x27;if_binary&#x27;, handle_unknown=&#x27;ignore&#x27;,\n",
       "                               sparse_output=False))])</pre><b>In a Jupyter environment, please rerun this cell to show the HTML representation or trust the notebook. <br />On GitHub, the HTML representation is unable to render, please try loading this page with nbviewer.org.</b></div><div class=\"sk-container\" hidden><div class=\"sk-item sk-dashed-wrapped\"><div class=\"sk-label-container\"><div class=\"sk-label sk-toggleable\"><input class=\"sk-toggleable__control sk-hidden--visually\" id=\"sk-estimator-id-5\" type=\"checkbox\" ><label for=\"sk-estimator-id-5\" class=\"sk-toggleable__label sk-toggleable__label-arrow\">Pipeline</label><div class=\"sk-toggleable__content\"><pre>Pipeline(steps=[(&#x27;imputer&#x27;, SimpleImputer(strategy=&#x27;most_frequent&#x27;)),\n",
       "                (&#x27;ohe&#x27;,\n",
       "                 OneHotEncoder(drop=&#x27;if_binary&#x27;, handle_unknown=&#x27;ignore&#x27;,\n",
       "                               sparse_output=False))])</pre></div></div></div><div class=\"sk-serial\"><div class=\"sk-item\"><div class=\"sk-estimator sk-toggleable\"><input class=\"sk-toggleable__control sk-hidden--visually\" id=\"sk-estimator-id-6\" type=\"checkbox\" ><label for=\"sk-estimator-id-6\" class=\"sk-toggleable__label sk-toggleable__label-arrow\">SimpleImputer</label><div class=\"sk-toggleable__content\"><pre>SimpleImputer(strategy=&#x27;most_frequent&#x27;)</pre></div></div></div><div class=\"sk-item\"><div class=\"sk-estimator sk-toggleable\"><input class=\"sk-toggleable__control sk-hidden--visually\" id=\"sk-estimator-id-7\" type=\"checkbox\" ><label for=\"sk-estimator-id-7\" class=\"sk-toggleable__label sk-toggleable__label-arrow\">OneHotEncoder</label><div class=\"sk-toggleable__content\"><pre>OneHotEncoder(drop=&#x27;if_binary&#x27;, handle_unknown=&#x27;ignore&#x27;, sparse_output=False)</pre></div></div></div></div></div></div></div>"
      ],
      "text/plain": [
       "Pipeline(steps=[('imputer', SimpleImputer(strategy='most_frequent')),\n",
       "                ('ohe',\n",
       "                 OneHotEncoder(drop='if_binary', handle_unknown='ignore',\n",
       "                               sparse_output=False))])"
      ]
     },
     "execution_count": 20,
     "metadata": {},
     "output_type": "execute_result"
    }
   ],
   "source": [
    "categorical_features = X_train.select_dtypes(include='object').columns.tolist()\n",
    "categorical_transformer = Pipeline(\n",
    "    steps=[\n",
    "        (\"imputer\", SimpleImputer(strategy=\"most_frequent\")), \n",
    "        #(\"ohe\", OneHotEncoder(handle_unknown=\"ignore\", drop='if_binary')),\n",
    "        (\"ohe\", OneHotEncoder(handle_unknown=\"ignore\", sparse_output=False, drop='if_binary'))\n",
    "    ]\n",
    ")#.set_output(transform='pandas')\n",
    "\n",
    "categorical_transformer"
   ]
  },
  {
   "cell_type": "code",
   "execution_count": 21,
   "id": "ea529702",
   "metadata": {},
   "outputs": [
    {
     "data": {
      "text/html": [
       "<style>#sk-container-id-3 {color: black;background-color: white;}#sk-container-id-3 pre{padding: 0;}#sk-container-id-3 div.sk-toggleable {background-color: white;}#sk-container-id-3 label.sk-toggleable__label {cursor: pointer;display: block;width: 100%;margin-bottom: 0;padding: 0.3em;box-sizing: border-box;text-align: center;}#sk-container-id-3 label.sk-toggleable__label-arrow:before {content: \"▸\";float: left;margin-right: 0.25em;color: #696969;}#sk-container-id-3 label.sk-toggleable__label-arrow:hover:before {color: black;}#sk-container-id-3 div.sk-estimator:hover label.sk-toggleable__label-arrow:before {color: black;}#sk-container-id-3 div.sk-toggleable__content {max-height: 0;max-width: 0;overflow: hidden;text-align: left;background-color: #f0f8ff;}#sk-container-id-3 div.sk-toggleable__content pre {margin: 0.2em;color: black;border-radius: 0.25em;background-color: #f0f8ff;}#sk-container-id-3 input.sk-toggleable__control:checked~div.sk-toggleable__content {max-height: 200px;max-width: 100%;overflow: auto;}#sk-container-id-3 input.sk-toggleable__control:checked~label.sk-toggleable__label-arrow:before {content: \"▾\";}#sk-container-id-3 div.sk-estimator input.sk-toggleable__control:checked~label.sk-toggleable__label {background-color: #d4ebff;}#sk-container-id-3 div.sk-label input.sk-toggleable__control:checked~label.sk-toggleable__label {background-color: #d4ebff;}#sk-container-id-3 input.sk-hidden--visually {border: 0;clip: rect(1px 1px 1px 1px);clip: rect(1px, 1px, 1px, 1px);height: 1px;margin: -1px;overflow: hidden;padding: 0;position: absolute;width: 1px;}#sk-container-id-3 div.sk-estimator {font-family: monospace;background-color: #f0f8ff;border: 1px dotted black;border-radius: 0.25em;box-sizing: border-box;margin-bottom: 0.5em;}#sk-container-id-3 div.sk-estimator:hover {background-color: #d4ebff;}#sk-container-id-3 div.sk-parallel-item::after {content: \"\";width: 100%;border-bottom: 1px solid gray;flex-grow: 1;}#sk-container-id-3 div.sk-label:hover label.sk-toggleable__label {background-color: #d4ebff;}#sk-container-id-3 div.sk-serial::before {content: \"\";position: absolute;border-left: 1px solid gray;box-sizing: border-box;top: 0;bottom: 0;left: 50%;z-index: 0;}#sk-container-id-3 div.sk-serial {display: flex;flex-direction: column;align-items: center;background-color: white;padding-right: 0.2em;padding-left: 0.2em;position: relative;}#sk-container-id-3 div.sk-item {position: relative;z-index: 1;}#sk-container-id-3 div.sk-parallel {display: flex;align-items: stretch;justify-content: center;background-color: white;position: relative;}#sk-container-id-3 div.sk-item::before, #sk-container-id-3 div.sk-parallel-item::before {content: \"\";position: absolute;border-left: 1px solid gray;box-sizing: border-box;top: 0;bottom: 0;left: 50%;z-index: -1;}#sk-container-id-3 div.sk-parallel-item {display: flex;flex-direction: column;z-index: 1;position: relative;background-color: white;}#sk-container-id-3 div.sk-parallel-item:first-child::after {align-self: flex-end;width: 50%;}#sk-container-id-3 div.sk-parallel-item:last-child::after {align-self: flex-start;width: 50%;}#sk-container-id-3 div.sk-parallel-item:only-child::after {width: 0;}#sk-container-id-3 div.sk-dashed-wrapped {border: 1px dashed gray;margin: 0 0.4em 0.5em 0.4em;box-sizing: border-box;padding-bottom: 0.4em;background-color: white;}#sk-container-id-3 div.sk-label label {font-family: monospace;font-weight: bold;display: inline-block;line-height: 1.2em;}#sk-container-id-3 div.sk-label-container {text-align: center;}#sk-container-id-3 div.sk-container {/* jupyter's `normalize.less` sets `[hidden] { display: none; }` but bootstrap.min.css set `[hidden] { display: none !important; }` so we also need the `!important` here to be able to override the default hidden behavior on the sphinx rendered scikit-learn.org. See: https://github.com/scikit-learn/scikit-learn/issues/21755 */display: inline-block !important;position: relative;}#sk-container-id-3 div.sk-text-repr-fallback {display: none;}</style><div id=\"sk-container-id-3\" class=\"sk-top-container\"><div class=\"sk-text-repr-fallback\"><pre>ColumnTransformer(remainder=&#x27;passthrough&#x27;,\n",
       "                  transformers=[(&#x27;num&#x27;,\n",
       "                                 Pipeline(steps=[(&#x27;imputer&#x27;,\n",
       "                                                  SimpleImputer(strategy=&#x27;median&#x27;)),\n",
       "                                                 (&#x27;scaler&#x27;, StandardScaler()),\n",
       "                                                 (&#x27;poly_int&#x27;,\n",
       "                                                  PolynomialFeatures(include_bias=False))]),\n",
       "                                 [&#x27;mileage&#x27;, &#x27;standard_colour&#x27;, &#x27;standard_make&#x27;,\n",
       "                                  &#x27;vehicle_condition&#x27;, &#x27;year_of_registration&#x27;,\n",
       "                                  &#x27;body_type&#x27;, &#x27;crossover_car_and_van&#x27;]),\n",
       "                                (&#x27;cat&#x27;,\n",
       "                                 Pipeline(steps=[(&#x27;imputer&#x27;,\n",
       "                                                  SimpleImputer(strategy=&#x27;most_frequent&#x27;)),\n",
       "                                                 (&#x27;ohe&#x27;,\n",
       "                                                  OneHotEncoder(drop=&#x27;if_binary&#x27;,\n",
       "                                                                handle_unknown=&#x27;ignore&#x27;,\n",
       "                                                                sparse_output=False))]),\n",
       "                                 [&#x27;standard_model&#x27;, &#x27;fuel_type&#x27;])],\n",
       "                  verbose_feature_names_out=False)</pre><b>In a Jupyter environment, please rerun this cell to show the HTML representation or trust the notebook. <br />On GitHub, the HTML representation is unable to render, please try loading this page with nbviewer.org.</b></div><div class=\"sk-container\" hidden><div class=\"sk-item sk-dashed-wrapped\"><div class=\"sk-label-container\"><div class=\"sk-label sk-toggleable\"><input class=\"sk-toggleable__control sk-hidden--visually\" id=\"sk-estimator-id-8\" type=\"checkbox\" ><label for=\"sk-estimator-id-8\" class=\"sk-toggleable__label sk-toggleable__label-arrow\">ColumnTransformer</label><div class=\"sk-toggleable__content\"><pre>ColumnTransformer(remainder=&#x27;passthrough&#x27;,\n",
       "                  transformers=[(&#x27;num&#x27;,\n",
       "                                 Pipeline(steps=[(&#x27;imputer&#x27;,\n",
       "                                                  SimpleImputer(strategy=&#x27;median&#x27;)),\n",
       "                                                 (&#x27;scaler&#x27;, StandardScaler()),\n",
       "                                                 (&#x27;poly_int&#x27;,\n",
       "                                                  PolynomialFeatures(include_bias=False))]),\n",
       "                                 [&#x27;mileage&#x27;, &#x27;standard_colour&#x27;, &#x27;standard_make&#x27;,\n",
       "                                  &#x27;vehicle_condition&#x27;, &#x27;year_of_registration&#x27;,\n",
       "                                  &#x27;body_type&#x27;, &#x27;crossover_car_and_van&#x27;]),\n",
       "                                (&#x27;cat&#x27;,\n",
       "                                 Pipeline(steps=[(&#x27;imputer&#x27;,\n",
       "                                                  SimpleImputer(strategy=&#x27;most_frequent&#x27;)),\n",
       "                                                 (&#x27;ohe&#x27;,\n",
       "                                                  OneHotEncoder(drop=&#x27;if_binary&#x27;,\n",
       "                                                                handle_unknown=&#x27;ignore&#x27;,\n",
       "                                                                sparse_output=False))]),\n",
       "                                 [&#x27;standard_model&#x27;, &#x27;fuel_type&#x27;])],\n",
       "                  verbose_feature_names_out=False)</pre></div></div></div><div class=\"sk-parallel\"><div class=\"sk-parallel-item\"><div class=\"sk-item\"><div class=\"sk-label-container\"><div class=\"sk-label sk-toggleable\"><input class=\"sk-toggleable__control sk-hidden--visually\" id=\"sk-estimator-id-9\" type=\"checkbox\" ><label for=\"sk-estimator-id-9\" class=\"sk-toggleable__label sk-toggleable__label-arrow\">num</label><div class=\"sk-toggleable__content\"><pre>[&#x27;mileage&#x27;, &#x27;standard_colour&#x27;, &#x27;standard_make&#x27;, &#x27;vehicle_condition&#x27;, &#x27;year_of_registration&#x27;, &#x27;body_type&#x27;, &#x27;crossover_car_and_van&#x27;]</pre></div></div></div><div class=\"sk-serial\"><div class=\"sk-item\"><div class=\"sk-serial\"><div class=\"sk-item\"><div class=\"sk-estimator sk-toggleable\"><input class=\"sk-toggleable__control sk-hidden--visually\" id=\"sk-estimator-id-10\" type=\"checkbox\" ><label for=\"sk-estimator-id-10\" class=\"sk-toggleable__label sk-toggleable__label-arrow\">SimpleImputer</label><div class=\"sk-toggleable__content\"><pre>SimpleImputer(strategy=&#x27;median&#x27;)</pre></div></div></div><div class=\"sk-item\"><div class=\"sk-estimator sk-toggleable\"><input class=\"sk-toggleable__control sk-hidden--visually\" id=\"sk-estimator-id-11\" type=\"checkbox\" ><label for=\"sk-estimator-id-11\" class=\"sk-toggleable__label sk-toggleable__label-arrow\">StandardScaler</label><div class=\"sk-toggleable__content\"><pre>StandardScaler()</pre></div></div></div><div class=\"sk-item\"><div class=\"sk-estimator sk-toggleable\"><input class=\"sk-toggleable__control sk-hidden--visually\" id=\"sk-estimator-id-12\" type=\"checkbox\" ><label for=\"sk-estimator-id-12\" class=\"sk-toggleable__label sk-toggleable__label-arrow\">PolynomialFeatures</label><div class=\"sk-toggleable__content\"><pre>PolynomialFeatures(include_bias=False)</pre></div></div></div></div></div></div></div></div><div class=\"sk-parallel-item\"><div class=\"sk-item\"><div class=\"sk-label-container\"><div class=\"sk-label sk-toggleable\"><input class=\"sk-toggleable__control sk-hidden--visually\" id=\"sk-estimator-id-13\" type=\"checkbox\" ><label for=\"sk-estimator-id-13\" class=\"sk-toggleable__label sk-toggleable__label-arrow\">cat</label><div class=\"sk-toggleable__content\"><pre>[&#x27;standard_model&#x27;, &#x27;fuel_type&#x27;]</pre></div></div></div><div class=\"sk-serial\"><div class=\"sk-item\"><div class=\"sk-serial\"><div class=\"sk-item\"><div class=\"sk-estimator sk-toggleable\"><input class=\"sk-toggleable__control sk-hidden--visually\" id=\"sk-estimator-id-14\" type=\"checkbox\" ><label for=\"sk-estimator-id-14\" class=\"sk-toggleable__label sk-toggleable__label-arrow\">SimpleImputer</label><div class=\"sk-toggleable__content\"><pre>SimpleImputer(strategy=&#x27;most_frequent&#x27;)</pre></div></div></div><div class=\"sk-item\"><div class=\"sk-estimator sk-toggleable\"><input class=\"sk-toggleable__control sk-hidden--visually\" id=\"sk-estimator-id-15\" type=\"checkbox\" ><label for=\"sk-estimator-id-15\" class=\"sk-toggleable__label sk-toggleable__label-arrow\">OneHotEncoder</label><div class=\"sk-toggleable__content\"><pre>OneHotEncoder(drop=&#x27;if_binary&#x27;, handle_unknown=&#x27;ignore&#x27;, sparse_output=False)</pre></div></div></div></div></div></div></div></div><div class=\"sk-parallel-item\"><div class=\"sk-item\"><div class=\"sk-label-container\"><div class=\"sk-label sk-toggleable\"><input class=\"sk-toggleable__control sk-hidden--visually\" id=\"sk-estimator-id-16\" type=\"checkbox\" ><label for=\"sk-estimator-id-16\" class=\"sk-toggleable__label sk-toggleable__label-arrow\">remainder</label><div class=\"sk-toggleable__content\"><pre></pre></div></div></div><div class=\"sk-serial\"><div class=\"sk-item\"><div class=\"sk-estimator sk-toggleable\"><input class=\"sk-toggleable__control sk-hidden--visually\" id=\"sk-estimator-id-17\" type=\"checkbox\" ><label for=\"sk-estimator-id-17\" class=\"sk-toggleable__label sk-toggleable__label-arrow\">passthrough</label><div class=\"sk-toggleable__content\"><pre>passthrough</pre></div></div></div></div></div></div></div></div></div></div>"
      ],
      "text/plain": [
       "ColumnTransformer(remainder='passthrough',\n",
       "                  transformers=[('num',\n",
       "                                 Pipeline(steps=[('imputer',\n",
       "                                                  SimpleImputer(strategy='median')),\n",
       "                                                 ('scaler', StandardScaler()),\n",
       "                                                 ('poly_int',\n",
       "                                                  PolynomialFeatures(include_bias=False))]),\n",
       "                                 ['mileage', 'standard_colour', 'standard_make',\n",
       "                                  'vehicle_condition', 'year_of_registration',\n",
       "                                  'body_type', 'crossover_car_and_van']),\n",
       "                                ('cat',\n",
       "                                 Pipeline(steps=[('imputer',\n",
       "                                                  SimpleImputer(strategy='most_frequent')),\n",
       "                                                 ('ohe',\n",
       "                                                  OneHotEncoder(drop='if_binary',\n",
       "                                                                handle_unknown='ignore',\n",
       "                                                                sparse_output=False))]),\n",
       "                                 ['standard_model', 'fuel_type'])],\n",
       "                  verbose_feature_names_out=False)"
      ]
     },
     "execution_count": 21,
     "metadata": {},
     "output_type": "execute_result"
    }
   ],
   "source": [
    "preprocessor = ColumnTransformer(\n",
    "    transformers=[\n",
    "        (\"num\", numeric_transformer, numeric_features),\n",
    "        (\"cat\", categorical_transformer, categorical_features),\n",
    "    ],\n",
    "    remainder='passthrough',\n",
    "    verbose_feature_names_out=False\n",
    ")#.set_output(transform=\"pandas\")\n",
    "\n",
    "preprocessor"
   ]
  },
  {
   "cell_type": "markdown",
   "id": "1faead47",
   "metadata": {},
   "source": [
    "### FEATURE SELECTION AND DIMENSIONALITY REDUCTION"
   ]
  },
  {
   "cell_type": "code",
   "execution_count": 22,
   "id": "a6e9cd4f",
   "metadata": {},
   "outputs": [],
   "source": [
    "regr_pipe = Pipeline(\n",
    "    steps=[\n",
    "        (\"preprocessor\", preprocessor), \n",
    "         (\"featsel\", RFECV(Ridge(), step=1, cv=5)),\n",
    "        #(\"featsel\", SelectKBest(f_regression, k=10)),\n",
    "        (\"regr\", Ridge())\n",
    "    ]\n",
    ")#.set_output(transform=\"pandas\")"
   ]
  },
  {
   "cell_type": "code",
   "execution_count": 23,
   "id": "e0388a07",
   "metadata": {
    "scrolled": true
   },
   "outputs": [
    {
     "data": {
      "text/html": [
       "<div>\n",
       "<style scoped>\n",
       "    .dataframe tbody tr th:only-of-type {\n",
       "        vertical-align: middle;\n",
       "    }\n",
       "\n",
       "    .dataframe tbody tr th {\n",
       "        vertical-align: top;\n",
       "    }\n",
       "\n",
       "    .dataframe thead th {\n",
       "        text-align: right;\n",
       "    }\n",
       "</style>\n",
       "<table border=\"1\" class=\"dataframe\">\n",
       "  <thead>\n",
       "    <tr style=\"text-align: right;\">\n",
       "      <th></th>\n",
       "      <th>mileage</th>\n",
       "      <th>standard_colour</th>\n",
       "      <th>standard_make</th>\n",
       "      <th>standard_model</th>\n",
       "      <th>vehicle_condition</th>\n",
       "      <th>year_of_registration</th>\n",
       "      <th>body_type</th>\n",
       "      <th>crossover_car_and_van</th>\n",
       "      <th>fuel_type</th>\n",
       "    </tr>\n",
       "  </thead>\n",
       "  <tbody>\n",
       "    <tr>\n",
       "      <th>385938</th>\n",
       "      <td>10960.0</td>\n",
       "      <td>16</td>\n",
       "      <td>27</td>\n",
       "      <td>Picanto</td>\n",
       "      <td>0</td>\n",
       "      <td>2017.0</td>\n",
       "      <td>5</td>\n",
       "      <td>0</td>\n",
       "      <td>Petrol</td>\n",
       "    </tr>\n",
       "    <tr>\n",
       "      <th>136572</th>\n",
       "      <td>22000.0</td>\n",
       "      <td>18</td>\n",
       "      <td>12</td>\n",
       "      <td>C1</td>\n",
       "      <td>0</td>\n",
       "      <td>2013.0</td>\n",
       "      <td>5</td>\n",
       "      <td>0</td>\n",
       "      <td>Petrol</td>\n",
       "    </tr>\n",
       "    <tr>\n",
       "      <th>125695</th>\n",
       "      <td>54000.0</td>\n",
       "      <td>8</td>\n",
       "      <td>57</td>\n",
       "      <td>Corsa</td>\n",
       "      <td>0</td>\n",
       "      <td>2013.0</td>\n",
       "      <td>5</td>\n",
       "      <td>0</td>\n",
       "      <td>Petrol</td>\n",
       "    </tr>\n",
       "    <tr>\n",
       "      <th>22745</th>\n",
       "      <td>0.0</td>\n",
       "      <td>2</td>\n",
       "      <td>19</td>\n",
       "      <td>500</td>\n",
       "      <td>1</td>\n",
       "      <td>0.0</td>\n",
       "      <td>5</td>\n",
       "      <td>0</td>\n",
       "      <td>Petrol</td>\n",
       "    </tr>\n",
       "    <tr>\n",
       "      <th>371488</th>\n",
       "      <td>67450.0</td>\n",
       "      <td>16</td>\n",
       "      <td>37</td>\n",
       "      <td>C Class</td>\n",
       "      <td>0</td>\n",
       "      <td>2015.0</td>\n",
       "      <td>12</td>\n",
       "      <td>0</td>\n",
       "      <td>Diesel</td>\n",
       "    </tr>\n",
       "  </tbody>\n",
       "</table>\n",
       "</div>"
      ],
      "text/plain": [
       "        mileage  standard_colour  standard_make standard_model   \n",
       "385938  10960.0               16             27        Picanto  \\\n",
       "136572  22000.0               18             12             C1   \n",
       "125695  54000.0                8             57          Corsa   \n",
       "22745       0.0                2             19            500   \n",
       "371488  67450.0               16             37        C Class   \n",
       "\n",
       "        vehicle_condition  year_of_registration  body_type   \n",
       "385938                  0                2017.0          5  \\\n",
       "136572                  0                2013.0          5   \n",
       "125695                  0                2013.0          5   \n",
       "22745                   1                   0.0          5   \n",
       "371488                  0                2015.0         12   \n",
       "\n",
       "        crossover_car_and_van fuel_type  \n",
       "385938                      0    Petrol  \n",
       "136572                      0    Petrol  \n",
       "125695                      0    Petrol  \n",
       "22745                       0    Petrol  \n",
       "371488                      0    Diesel  "
      ]
     },
     "execution_count": 23,
     "metadata": {},
     "output_type": "execute_result"
    }
   ],
   "source": [
    "X_train.head()"
   ]
  },
  {
   "cell_type": "code",
   "execution_count": null,
   "id": "9181b000",
   "metadata": {},
   "outputs": [],
   "source": [
    "regr_pipe.fit(X_train, y_train)"
   ]
  },
  {
   "cell_type": "code",
   "execution_count": null,
   "id": "c9de9f4f",
   "metadata": {},
   "outputs": [],
   "source": [
    "# Get the names of the selected features\n",
    "selected_features = regr_pipe['featsel'].get_feature_names_out()"
   ]
  },
  {
   "cell_type": "code",
   "execution_count": null,
   "id": "34044989",
   "metadata": {},
   "outputs": [],
   "source": [
    "regr_pipe['featsel'].transform(\n",
    "    regr_pipe['preprocessor'].transform(X_train)\n",
    ")"
   ]
  },
  {
   "cell_type": "code",
   "execution_count": null,
   "id": "a32c72c7",
   "metadata": {},
   "outputs": [],
   "source": [
    "regr_pipe.score(X_test, y_test)"
   ]
  },
  {
   "cell_type": "code",
   "execution_count": null,
   "id": "17b6a328",
   "metadata": {
    "scrolled": true
   },
   "outputs": [],
   "source": [
    "rmse(y_test, regr_pipe.predict(X_test))"
   ]
  },
  {
   "cell_type": "code",
   "execution_count": null,
   "id": "d139b315",
   "metadata": {},
   "outputs": [],
   "source": [
    "# scores = cross_val_score(\n",
    "#     regr_pipe, X_train, y_train, cv=10, scoring='neg_root_mean_squared_error'\n",
    "# )*-1\n",
    "# scores.mean(), scores.std()"
   ]
  },
  {
   "cell_type": "code",
   "execution_count": null,
   "id": "25a72cb1",
   "metadata": {},
   "outputs": [],
   "source": [
    "n_scores = len(regr_pipe['featsel'].cv_results_[\"mean_test_score\"])\n",
    "n_scores"
   ]
  },
  {
   "cell_type": "code",
   "execution_count": null,
   "id": "44ca8d6b",
   "metadata": {},
   "outputs": [],
   "source": [
    "fig, ax = plt.subplots(figsize=(7,5))\n",
    "ax.errorbar(\n",
    "    range(1, n_scores+1),\n",
    "    regr_pipe['featsel'].cv_results_[\"mean_test_score\"],\n",
    "    yerr=regr_pipe['featsel'].cv_results_[\"std_test_score\"],\n",
    ")\n",
    "ax.set_xlabel(\"Number of features selected\")\n",
    "ax.set_ylabel(\"Mean test score\");"
   ]
  },
  {
   "cell_type": "code",
   "execution_count": null,
   "id": "13816ff1",
   "metadata": {},
   "outputs": [],
   "source": [
    "X_train.isna().sum()"
   ]
  },
  {
   "cell_type": "code",
   "execution_count": null,
   "id": "c2b156cd",
   "metadata": {},
   "outputs": [],
   "source": [
    "X_scaled = scaler.fit_transform(X_train)\n",
    "\n",
    "# Apply PCA to reduce dimensionality\n",
    "pca = PCA()\n",
    "pca.fit(X_scaled)\n",
    "\n",
    "X_pca = pca.fit_transform(X_scaled)\n",
    "\n",
    "print(\"Original shape: {}\".format(str(X_scaled.shape)))\n",
    "print(\"Reduced shape: {}\".format(str(X_pca.shape)))"
   ]
  },
  {
   "cell_type": "code",
   "execution_count": null,
   "id": "d5012d37",
   "metadata": {},
   "outputs": [],
   "source": [
    "# Explained variance ratio\n",
    "explained_variance_ratio = pca.explained_variance_ratio_\n",
    "print(\"Explained Variance Ratio:\", explained_variance_ratio)\n",
    "\n",
    "# Cumulative explained variance ratio\n",
    "cumulative_explained_var_ratio = np.cumsum(explained_variance_ratio)\n",
    "print(\"Cumulative Explained Variance Ratio:\", cumulative_explained_var_ratio)"
   ]
  },
  {
   "cell_type": "code",
   "execution_count": null,
   "id": "d8e71c91",
   "metadata": {},
   "outputs": [],
   "source": [
    "plt.plot(np.cumsum(explained_variance_ratio))\n",
    "plt.xlabel('number of components')\n",
    "plt.ylabel('cumulative explained variance');"
   ]
  },
  {
   "cell_type": "markdown",
   "id": "587bef29",
   "metadata": {},
   "source": [
    "### MODEL BUILDING"
   ]
  },
  {
   "cell_type": "markdown",
   "id": "a9d532f1",
   "metadata": {},
   "source": [
    "A Linear Model"
   ]
  },
  {
   "cell_type": "code",
   "execution_count": null,
   "id": "f1fdb306",
   "metadata": {},
   "outputs": [],
   "source": [
    "regr_pipe = Pipeline(\n",
    "    steps=[\n",
    "        (\"preprocessor\", preprocessor), \n",
    "        (\"regr\", Ridge(alpha=10))\n",
    "    ]\n",
    ")#.set_output(transform=\"pandas\")\n",
    "\n",
    "regr_pipe.fit(X_train,y_train)"
   ]
  },
  {
   "cell_type": "code",
   "execution_count": null,
   "id": "bf49af7e",
   "metadata": {
    "scrolled": true
   },
   "outputs": [],
   "source": [
    "rmse(y_test, regr_pipe.predict(X_test))"
   ]
  },
  {
   "cell_type": "markdown",
   "id": "439c1842",
   "metadata": {},
   "source": [
    "A Random Forest"
   ]
  },
  {
   "cell_type": "code",
   "execution_count": null,
   "id": "7fab02f7",
   "metadata": {},
   "outputs": [],
   "source": [
    "randomforest = Pipeline( \n",
    "    steps=[ (\"preprocessor\", preprocessor), \n",
    "           (\"regr\", RandomForestRegressor(max_depth=12, \n",
    "                                          min_samples_split=10, \n",
    "                                          min_samples_leaf=8))])\n",
    "\n",
    "randomforest.fit(X_train, y_train) "
   ]
  },
  {
   "cell_type": "code",
   "execution_count": null,
   "id": "4a4e6543",
   "metadata": {},
   "outputs": [],
   "source": [
    "rmse(y_test, randomforest.predict(X_test))"
   ]
  },
  {
   "cell_type": "markdown",
   "id": "c4249f80",
   "metadata": {},
   "source": [
    "A Boosted Tree"
   ]
  },
  {
   "cell_type": "code",
   "execution_count": null,
   "id": "4ea57393",
   "metadata": {
    "scrolled": true
   },
   "outputs": [],
   "source": [
    "boosted_tree = Pipeline( \n",
    "    steps=[ (\"preprocessor\", preprocessor), \n",
    "           (\"regr\", HistGradientBoostingRegressor())])\n",
    "\n",
    "boosted_tree.fit(X_train, y_train)"
   ]
  },
  {
   "cell_type": "code",
   "execution_count": null,
   "id": "a3075d3a",
   "metadata": {},
   "outputs": [],
   "source": [
    "rmse(y_test, boosted_tree.predict(X_test))"
   ]
  },
  {
   "cell_type": "markdown",
   "id": "e76f68b0",
   "metadata": {},
   "source": [
    "An Averager/Voter/Stacker Ensemble"
   ]
  },
  {
   "cell_type": "code",
   "execution_count": null,
   "id": "e7338573",
   "metadata": {},
   "outputs": [],
   "source": [
    "estimators = [('rd', Ridge()),\n",
    "              ('lr', LinearRegression())]\n",
    "\n",
    "ensemble = Pipeline( \n",
    "    steps=[ (\"preprocessor\", preprocessor), \n",
    "           (\"regr\", StackingRegressor(estimators=estimators,\n",
    "                                      final_estimator=RandomForestRegressor(n_estimators=10,random_state=42)))])\n",
    "\n",
    "ensemble.fit(X_train, y_train)"
   ]
  },
  {
   "cell_type": "code",
   "execution_count": null,
   "id": "b528282e",
   "metadata": {},
   "outputs": [],
   "source": [
    "rmse(y_test, ensemble.predict(X_test))"
   ]
  },
  {
   "cell_type": "code",
   "execution_count": null,
   "id": "7eef7021",
   "metadata": {},
   "outputs": [],
   "source": [
    "# Evaluate the ensemble on the testing data\n",
    "y_pred = ensemble.predict(X_test)\n",
    "mse = mean_squared_error(y_test, y_pred)\n",
    "print(\"Ensemble MSE:\", mse)"
   ]
  },
  {
   "cell_type": "code",
   "execution_count": null,
   "id": "796fee84",
   "metadata": {},
   "outputs": [],
   "source": [
    "# cv_scores = cross_val_score(ensemble, X_train, y_train, cv=5, scoring='neg_mean_squared_error')\n",
    "# print(\"Ensemble Cross-Validation MSE:\", -cv_scores.mean())\n",
    "# print(f\"Cross_val_score Root Mean Squared Error: {scores.mean()*-1}\")\n",
    "# print(f\"Standard deviation of the scores: {scores.std()}\")"
   ]
  },
  {
   "cell_type": "code",
   "execution_count": null,
   "id": "e8c9fe51",
   "metadata": {},
   "outputs": [],
   "source": [
    "# pipe = Pipeline(steps=\n",
    "#     [\n",
    "#         ('pp', StandardScaler()),\n",
    "#         ('est', Ridge())\n",
    "#     ]\n",
    "# ).set_output(transform=\"pandas\")\n",
    "\n",
    "# param_grid = dict(regr__alpha=np.logspace(-3, 3, 7))\n",
    "\n",
    "# grid = GridSearchCV(\n",
    "#     pipe, param_grid, scoring='neg_root_mean_squared_error', return_train_score=True\n",
    "# )"
   ]
  },
  {
   "cell_type": "code",
   "execution_count": null,
   "id": "4367fa5a",
   "metadata": {},
   "outputs": [],
   "source": [
    "#grid.fit(X_train, y_train)"
   ]
  },
  {
   "cell_type": "markdown",
   "id": "f62956d3",
   "metadata": {},
   "source": [
    "### MODEL EVALUATION AND ANALYSIS"
   ]
  },
  {
   "cell_type": "code",
   "execution_count": null,
   "id": "cf50d648",
   "metadata": {},
   "outputs": [],
   "source": [
    "!pip install -q shap"
   ]
  },
  {
   "cell_type": "code",
   "execution_count": null,
   "id": "f4ccd149",
   "metadata": {},
   "outputs": [],
   "source": [
    "import shap\n",
    "shap.initjs()"
   ]
  },
  {
   "cell_type": "markdown",
   "id": "2aba77d9",
   "metadata": {},
   "source": [
    "Overall Performance with Cross-Validation"
   ]
  },
  {
   "cell_type": "code",
   "execution_count": null,
   "id": "ecea5d36",
   "metadata": {},
   "outputs": [],
   "source": [
    "#Use cross-validation to estimate the performance of the linear regression model\n",
    "scores = cross_val_score(regr_pipe, X_train, y_train, cv=5, scoring='neg_root_mean_squared_error')\n",
    "print(f\"Cross_val_score Root Mean Squared Error: {scores.mean()*-1}\")\n",
    "print(f\"Standard deviation of the scores: {scores.std()}\")"
   ]
  },
  {
   "cell_type": "code",
   "execution_count": null,
   "id": "088ffeca",
   "metadata": {},
   "outputs": [],
   "source": [
    "# Use cross-validation to estimate the performance of the random forest model\n",
    "scores = cross_val_score(randomforest, X_train, y_train, cv=5, scoring='neg_root_mean_squared_error')\n",
    "print(f\"Cross_val_score Root Mean Squared Error: {scores.mean()*-1}\")\n",
    "print(f\"Standard deviation of the scores: {scores.std()}\")"
   ]
  },
  {
   "cell_type": "code",
   "execution_count": null,
   "id": "03413c92",
   "metadata": {},
   "outputs": [],
   "source": [
    "# # Use cross-validation to estimate the performance of the boosted tree model\n",
    "scores = cross_val_score(boosted_tree, X_train, y_train, cv=5, scoring='neg_root_mean_squared_error')\n",
    "print(f\"Cross_val_score Root Mean Squared Error: {scores.mean()*-1}\")\n",
    "print(f\"Standard deviation of the scores: {scores.std()}\")"
   ]
  },
  {
   "cell_type": "code",
   "execution_count": null,
   "id": "14dab538",
   "metadata": {},
   "outputs": [],
   "source": [
    "# scores = cross_val_score(ensemble, X_train, y_train, cv=5, scoring='neg_root_mean_squared_error')\n",
    "# print(f\"Cross_val_score Root Mean Squared Error: {scores.mean()*-1}\")\n",
    "# print(f\"Standard deviation of the scores: {scores.std()}\")"
   ]
  },
  {
   "cell_type": "markdown",
   "id": "056e0d5e",
   "metadata": {},
   "source": [
    "True vs Predicted Analysis"
   ]
  },
  {
   "cell_type": "code",
   "execution_count": null,
   "id": "6a8e5b11",
   "metadata": {},
   "outputs": [],
   "source": [
    "def plot_true_vs_predicted(\n",
    "        regr_pipe, \n",
    "        X_train, y_train,\n",
    "        X_test, y_test,\n",
    "        ax=None,\n",
    "        train_style_kws={},\n",
    "        test_style_kws={}\n",
    "    ):\n",
    "    if ax is None:\n",
    "        fig, ax = plt.subplots()\n",
    "    y_pred_train = regr_pipe.predict(X_train)\n",
    "    y_pred_test = regr_pipe.predict(X_test)\n",
    "    ax.plot(y_train, y_pred_train, '.', label='train', **train_style_kws)\n",
    "    ax.plot(y_test, y_pred_test, '.', label='test', **test_style_kws)\n",
    "    ax.set_xlabel('True Target')\n",
    "    ax.set_ylabel('Predicted Target')\n",
    "    # the diagnonal line for the idealised space of predictions\n",
    "    ax.plot(\n",
    "        [0, 1], [0, 1], transform=ax.transAxes, \n",
    "        color='gray', linestyle=':', alpha=0.3\n",
    "    )\n",
    "    ax.legend()\n",
    "\n",
    "    return ax"
   ]
  },
  {
   "cell_type": "code",
   "execution_count": null,
   "id": "21f03162",
   "metadata": {},
   "outputs": [],
   "source": [
    "fig, ax = plt.subplots(figsize=(7,7), constrained_layout=True)\n",
    "plot_true_vs_predicted(\n",
    "    regr_pipe,\n",
    "    X_train, y_train,\n",
    "    X_test, y_test, \n",
    "    ax=ax\n",
    ");"
   ]
  },
  {
   "cell_type": "code",
   "execution_count": null,
   "id": "7976d851",
   "metadata": {},
   "outputs": [],
   "source": [
    "pred1 = regr_pipe.predict(X_train)\n",
    "pred2 = boosted_tree.predict(X_train)\n",
    "pred3 = randomforest.predict(X_train)\n",
    "pred4 = ensemble.predict(X_train)"
   ]
  },
  {
   "cell_type": "code",
   "execution_count": null,
   "id": "26492f90",
   "metadata": {},
   "outputs": [],
   "source": [
    "# Plot the predictions of the four models and the true data.\n",
    "plt.figure(figsize=(10,6))\n",
    "plt.plot(pred1, \"gd\", alpha=0.5, label=\"Lr\")\n",
    "plt.plot(pred2, \"b^\", alpha=0.5, label=\"Hgb\")\n",
    "plt.plot(pred3, \"ys\", alpha=0.5, label=\"Rfr\")\n",
    "plt.plot(pred4, \"r*\", alpha=0.5, ms=10, label=\"Ensemble\")\n",
    "plt.plot(np.array(y_train.head(20)), \"kx\", alpha=0.5, label=\"True Data\")\n",
    "\n",
    "plt.tick_params(axis=\"x\", which=\"both\", bottom=False, top=False, labelbottom=False)\n",
    "\n",
    "plt.ylabel(\"predicted\")\n",
    "plt.xlabel(\"training samples\")\n",
    "plt.title(\"Regressor predictions and their average\")\n",
    "plt.show()"
   ]
  },
  {
   "cell_type": "markdown",
   "id": "56da3123",
   "metadata": {},
   "source": [
    "SHAP Local and Global Explainability"
   ]
  },
  {
   "cell_type": "code",
   "execution_count": null,
   "id": "74824e0b",
   "metadata": {},
   "outputs": [],
   "source": [
    "explainer = shap.TreeExplainer(boosted_tree['regr'])"
   ]
  },
  {
   "cell_type": "code",
   "execution_count": null,
   "id": "609a0c19",
   "metadata": {},
   "outputs": [],
   "source": [
    "#feature_names = regr_pipe['preprocessor'].transform(X).columns.tolist()"
   ]
  },
  {
   "cell_type": "code",
   "execution_count": null,
   "id": "53f11693",
   "metadata": {
    "scrolled": true
   },
   "outputs": [],
   "source": [
    "shap_values = explainer.shap_values(regr_pipe['preprocessor'].transform(X))"
   ]
  },
  {
   "cell_type": "code",
   "execution_count": null,
   "id": "ae9b8d25",
   "metadata": {},
   "outputs": [],
   "source": [
    "shap.summary_plot(shap_values, boosted_tree['preprocessor'].transform(X))"
   ]
  },
  {
   "cell_type": "code",
   "execution_count": null,
   "id": "67826edf",
   "metadata": {},
   "outputs": [],
   "source": [
    "shap.summary_plot(\n",
    "    shap_values[1], feature_names, plot_type=\"bar\"\n",
    ")"
   ]
  },
  {
   "cell_type": "markdown",
   "id": "42eb5037",
   "metadata": {},
   "source": [
    "Partial Dependency Plots"
   ]
  },
  {
   "cell_type": "code",
   "execution_count": null,
   "id": "c98ec83d",
   "metadata": {},
   "outputs": [],
   "source": [
    "#changed from boosted tree to randomforest\n",
    "PartialDependenceDisplay.from_estimator(boosted_tree, X, features=['mileage'], kind='both');"
   ]
  },
  {
   "cell_type": "code",
   "execution_count": null,
   "id": "2f430b2a",
   "metadata": {},
   "outputs": [],
   "source": [
    "fig, ax = plt.subplots(figsize=(8,6), constrained_layout=True)\n",
    "PartialDependenceDisplay.from_estimator(\n",
    "    boosted_tree, X_test, features=X_test.select_dtypes(exclude='object').columns,\n",
    "    kind='both', subsample=100, grid_resolution=30, n_jobs=2, random_state=0,\n",
    "    ax=ax, n_cols=2);"
   ]
  },
  {
   "cell_type": "code",
   "execution_count": null,
   "id": "eeb821fc",
   "metadata": {},
   "outputs": [],
   "source": [
    "fig, ax = plt.subplots(figsize=(8,6), constrained_layout=True)\n",
    "PartialDependenceDisplay.from_estimator(\n",
    "    regr_pipe, X_test, features=X_test.select_dtypes(exclude='object').columns,\n",
    "    kind='average', \n",
    "    subsample=100, grid_resolution=30, n_jobs=2, random_state=0,\n",
    "    ax=ax, n_cols=2\n",
    ");"
   ]
  },
  {
   "cell_type": "code",
   "execution_count": null,
   "id": "a0da15bd",
   "metadata": {},
   "outputs": [],
   "source": []
  },
  {
   "cell_type": "code",
   "execution_count": null,
   "id": "45f82697",
   "metadata": {},
   "outputs": [],
   "source": []
  }
 ],
 "metadata": {
  "interpreter": {
   "hash": "81794d4967e6c3204c66dcd87b604927b115b27c00565d3d43f05ba2f3a2cb0d"
  },
  "kernelspec": {
   "display_name": "Python 3 (ipykernel)",
   "language": "python",
   "name": "python3"
  },
  "language_info": {
   "codemirror_mode": {
    "name": "ipython",
    "version": 3
   },
   "file_extension": ".py",
   "mimetype": "text/x-python",
   "name": "python",
   "nbconvert_exporter": "python",
   "pygments_lexer": "ipython3",
   "version": "3.9.13"
  }
 },
 "nbformat": 4,
 "nbformat_minor": 5
}
